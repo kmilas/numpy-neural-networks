{
 "cells": [
  {
   "cell_type": "code",
   "execution_count": 1,
   "id": "db860ad1",
   "metadata": {},
   "outputs": [],
   "source": [
    "#import sys, os\n",
    "#sys.path.append(os.path.abspath(os.path.join(\"..\")))\n",
    "\n",
    "import numpy as np\n",
    "import npnn\n",
    "from npnn.dataset import load_mnist, normalize\n",
    "from sklearn.model_selection import train_test_split\n",
    "\n",
    "np.random.seed(42)\n",
    "\n",
    "X,y, X_test,y_test = load_mnist()\n",
    "X_norm = normalize(X)\n",
    "\n",
    "X_train_norm,X_val,  y_train,y_val = train_test_split(X_norm,y, test_size=0.2, random_state=42)\n",
    "\n",
    "X_test_norm = normalize(X_test)"
   ]
  },
  {
   "cell_type": "code",
   "execution_count": 2,
   "id": "17b5b618",
   "metadata": {},
   "outputs": [
    {
     "name": "stdout",
     "output_type": "stream",
     "text": [
      "Model trainable parameters:  111514.0\n"
     ]
    }
   ],
   "source": [
    "from npnn.loss import CrossEntropyLoss\n",
    "from npnn.optimizer import SGD\n",
    "from npnn.model import FFN\n",
    "from npnn.layers.activation import ReLU\n",
    "\n",
    "np.random.seed(42)\n",
    "\n",
    "model = FFN(784,10,[128,64,32,16],ReLU)\n",
    "criterion = CrossEntropyLoss()\n",
    "optimizer = SGD(model, lr=0.01, momentum=0.9)\n",
    "epochs = 10\n",
    "print(\"Model trainable parameters: \",model.count_params())"
   ]
  },
  {
   "cell_type": "code",
   "execution_count": 3,
   "id": "9c6144cc",
   "metadata": {},
   "outputs": [
    {
     "name": "stdout",
     "output_type": "stream",
     "text": [
      "Epoch 1 train_loss: 0.9375, val_loss: 0.4759, val_acc: 87.500%\n",
      "Epoch 2 train_loss: 0.3887, val_loss: 0.3477, val_acc: 90.625%\n",
      "Epoch 3 train_loss: 0.3054, val_loss: 0.2893, val_acc: 93.750%\n",
      "Epoch 4 train_loss: 0.2601, val_loss: 0.2534, val_acc: 100.000%\n",
      "Epoch 5 train_loss: 0.2287, val_loss: 0.2292, val_acc: 100.000%\n",
      "Epoch 6 train_loss: 0.2050, val_loss: 0.2119, val_acc: 100.000%\n",
      "Epoch 7 train_loss: 0.1861, val_loss: 0.1993, val_acc: 100.000%\n",
      "Epoch 8 train_loss: 0.1705, val_loss: 0.1902, val_acc: 96.875%\n",
      "Epoch 9 train_loss: 0.1575, val_loss: 0.1814, val_acc: 96.875%\n",
      "Epoch 10 train_loss: 0.1464, val_loss: 0.1764, val_acc: 96.875%\n"
     ]
    }
   ],
   "source": [
    "np.random.seed(42)\n",
    "\n",
    "batch_size = 32\n",
    "losses = []\n",
    "train_accuracies = []\n",
    "val_accuracies = []\n",
    "val_losses = []\n",
    "for j in range(epochs):\n",
    "        loss_epoch = 0.0\n",
    "        loss_val = 0.0\n",
    "        preds = []\n",
    "        for i in range(0,len(y_train),batch_size):\n",
    "                # Training\n",
    "                optimizer.zero_grad()\n",
    "\n",
    "                image_batch = X_train_norm[i: i+batch_size].reshape(batch_size,-1)\n",
    "                labels = y_train[i: i+batch_size]\n",
    "\n",
    "                pred = model(image_batch)\n",
    "\n",
    "                loss_epoch += criterion(pred,labels)\n",
    "                dL_over = criterion.backward(pred)\n",
    "                model.backward(dL_over)\n",
    "                optimizer.step()\n",
    "                 \n",
    "                preds += [pred]\n",
    "                labels_pred = np.argmax(pred, axis=1)\n",
    "                train_acc = np.mean(labels_pred == labels)\n",
    "                train_accuracies += [train_acc]\n",
    "\n",
    "                 \n",
    "        for k in range(0,len(y_val),batch_size):\n",
    "                # Validation\n",
    "                image_batch_val = X_val[k: k+batch_size].reshape(batch_size,-1)\n",
    "                labels_val = y_val[k: k+batch_size]\n",
    "\n",
    "                pred_val = model(image_batch_val)\n",
    "                loss_val += criterion(pred_val,labels_val)\n",
    "\n",
    "                labels_pred_val = np.argmax(pred_val, axis=1)\n",
    "                val_acc = np.mean(labels_pred_val == labels_val)\n",
    "                val_accuracies += [val_acc]\n",
    "               \n",
    "        print(f\"Epoch {j+1} train_loss: {loss_epoch/(len(y_train)/batch_size):.4f}, val_loss: {loss_val/(len(y_val)/batch_size):.4f}, val_acc: {100*val_acc:.3f}%\")\n",
    "        "
   ]
  },
  {
   "cell_type": "code",
   "execution_count": 4,
   "id": "17c1b838",
   "metadata": {},
   "outputs": [
    {
     "name": "stdout",
     "output_type": "stream",
     "text": [
      "Test Accuracy 94.86%\n"
     ]
    }
   ],
   "source": [
    "batch_size = 100\n",
    "full_acc = 0.0\n",
    "\n",
    "for i in range(0,len(y_test),batch_size):\n",
    "    # Test\n",
    "    image_batch = X_test_norm[i:i+batch_size].reshape(batch_size,-1)\n",
    "    labels = y_test[i: i+batch_size]\n",
    "\n",
    "    pred = model(image_batch)\n",
    "\n",
    "    labels_pred = np.argmax(pred, axis=1)\n",
    "    train_acc = np.mean(labels_pred == labels)\n",
    "    #print(f\"Batch Accuracy {train_acc}\")\n",
    "    full_acc += train_acc\n",
    "\n",
    "# Test set Accuracy\n",
    "full_acc /= (len(y_test)/batch_size)\n",
    "print(f\"Test Accuracy {full_acc*100:.2f}%\")\n",
    "\n",
    "# 10 epochs 95.19%"
   ]
  }
 ],
 "metadata": {
  "kernelspec": {
   "display_name": "npnn",
   "language": "python",
   "name": "python3"
  },
  "language_info": {
   "codemirror_mode": {
    "name": "ipython",
    "version": 3
   },
   "file_extension": ".py",
   "mimetype": "text/x-python",
   "name": "python",
   "nbconvert_exporter": "python",
   "pygments_lexer": "ipython3",
   "version": "3.10.18"
  }
 },
 "nbformat": 4,
 "nbformat_minor": 5
}
